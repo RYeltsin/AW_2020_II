{
 "cells": [
  {
   "cell_type": "markdown",
   "metadata": {
    "id": "B0d6XSgeCApS"
   },
   "source": [
    "<p><img height=\"45px\" src=\"https://cdn1.iconfinder.com/data/icons/logotypes/32/square-twitter-512.png\" align=\"left\" hspace=\"10px\" vspace=\"0px\"></p>\n",
    "<font size = \"6.9\" color = \"#1BBFEF\"><b>Tweepy</b></font>"
   ]
  },
  {
   "cell_type": "markdown",
   "metadata": {
    "id": "VOrc6SnACQEQ"
   },
   "source": [
    "# Acceder a Tweepy\n",
    "\n",
    "\n",
    "https://www.extly.com/docs/autotweetng_joocial/tutorials/how-to-auto-post-from-joomla-to-twitter/apply-for-a-twitter-developer-account/#apply-for-a-developer-account"
   ]
  },
  {
   "cell_type": "code",
   "execution_count": 1,
   "metadata": {
    "executionInfo": {
     "elapsed": 1733,
     "status": "ok",
     "timestamp": 1601748678920,
     "user": {
      "displayName": "Neisser Alonzo ALE ALE",
      "photoUrl": "",
      "userId": "05728023129513976545"
     },
     "user_tz": 300
    },
    "id": "ZSla8wnsB-4s"
   },
   "outputs": [],
   "source": [
    "## Llamamos a la librería\n",
    "import tweepy"
   ]
  },
  {
   "cell_type": "code",
   "execution_count": 2,
   "metadata": {
    "colab": {
     "base_uri": "https://localhost:8080/",
     "height": 35
    },
    "executionInfo": {
     "elapsed": 2714,
     "status": "ok",
     "timestamp": 1601748683243,
     "user": {
      "displayName": "Neisser Alonzo ALE ALE",
      "photoUrl": "",
      "userId": "05728023129513976545"
     },
     "user_tz": 300
    },
    "id": "sfNHfRP-CU5v",
    "outputId": "a37faa27-18a9-4ab8-a8f1-803a860aa63b"
   },
   "outputs": [
    {
     "data": {
      "text/plain": [
       "('Neisser Alonzo Ale', 'Neisser_Alonzo')"
      ]
     },
     "execution_count": 2,
     "metadata": {
      "tags": []
     },
     "output_type": "execute_result"
    }
   ],
   "source": [
    "## Se autentica en twitter\n",
    "consumer_key = \"92CjwMtXuuH4B9f8LHgN5LLAZ\"\n",
    "consumer_secret = \"E7UJy23wZwM0DR1A2X2TBERBAxqZy4i9F8Q4tuaLqPf8DS93Qz\"\n",
    "\n",
    "access_token = \"912070700869079040-MKS3M5XCDhj9ruobnvmdeFglVZBRtOs\"\n",
    "access_token_secret = \"JU2iyrFmMPUqjCR5eT198S1hWLw317TAwDSEXjsqeAKOX\"\n",
    "\n",
    "## protocolo de autorización\n",
    "auth = tweepy.OAuthHandler(consumer_key, consumer_secret) \n",
    "auth.set_access_token(access_token, access_token_secret)\n",
    "\n",
    "## creamos la instancia de Twitter\n",
    "api = tweepy.API(auth, wait_on_rate_limit=True) ## wait the conection\n",
    "\n",
    "## verificar el nombre de la cuenta\n",
    "api.me().name, api.me().screen_name"
   ]
  },
  {
   "cell_type": "code",
   "execution_count": null,
   "metadata": {
    "id": "Anuk487uGa-n"
   },
   "outputs": [],
   "source": [
    "## leer el timeline del usuario\n",
    "my_tweets = api.user_timeline()\n",
    "my_tweets"
   ]
  },
  {
   "cell_type": "code",
   "execution_count": null,
   "metadata": {
    "id": "4b6D6vvzGzuX"
   },
   "outputs": [],
   "source": [
    "## seleccionar únicamente los textos\n",
    "for tweet in my_tweets:\n",
    "    print(\"Texto: \", tweet.text)\n",
    "    print(\"Fecha de creación: \", tweet.created_at)\n",
    "    print(\"Fuente: \", tweet.source)\n",
    "\n",
    "    print(\"################################################\")"
   ]
  },
  {
   "cell_type": "markdown",
   "metadata": {
    "id": "H35YRDYnDvdI"
   },
   "source": [
    "# Búsqueda según usuarios"
   ]
  },
  {
   "cell_type": "code",
   "execution_count": null,
   "metadata": {
    "id": "3uuj43HGRG26"
   },
   "outputs": [],
   "source": [
    "## Extraer datos de un usuario\n",
    "user = api.get_user(\"@BrunoPinasco\")\n",
    "user"
   ]
  },
  {
   "cell_type": "code",
   "execution_count": null,
   "metadata": {
    "id": "5jgvKTbMW8w3"
   },
   "outputs": [],
   "source": [
    "## obtener el nombre\n",
    "user.name"
   ]
  },
  {
   "cell_type": "code",
   "execution_count": null,
   "metadata": {
    "id": "H0NS23c4W21Q"
   },
   "outputs": [],
   "source": [
    "## obtener el nombre del usuario\n",
    "user.screen_name"
   ]
  },
  {
   "cell_type": "code",
   "execution_count": null,
   "metadata": {
    "id": "8EjKP3p3V9HJ"
   },
   "outputs": [],
   "source": [
    "## obtener la descripción del usuario\n",
    "user.description "
   ]
  },
  {
   "cell_type": "code",
   "execution_count": null,
   "metadata": {
    "id": "y_qEfNHgVynR"
   },
   "outputs": [],
   "source": [
    "## obtener el número de seguidores\n",
    "user.followers_count"
   ]
  },
  {
   "cell_type": "code",
   "execution_count": null,
   "metadata": {
    "id": "xsC0QwjuVypx"
   },
   "outputs": [],
   "source": [
    "## obtener el número de amigos\n",
    "user.friends_count"
   ]
  },
  {
   "cell_type": "code",
   "execution_count": null,
   "metadata": {
    "id": "T07r15aQVysR"
   },
   "outputs": [],
   "source": [
    "## obtener la locación\n",
    "user.location"
   ]
  },
  {
   "cell_type": "code",
   "execution_count": null,
   "metadata": {
    "id": "uEGWeuXlVyux"
   },
   "outputs": [],
   "source": [
    "## obtener la foto de perfil\n",
    "user.profile_image_url"
   ]
  },
  {
   "cell_type": "code",
   "execution_count": null,
   "metadata": {
    "id": "NlnjHk5IXB-8"
   },
   "outputs": [],
   "source": [
    "## obtener la foto de fondo\n",
    "user.profile_banner_url"
   ]
  },
  {
   "cell_type": "code",
   "execution_count": null,
   "metadata": {
    "id": "AdH3G4nDXX9-"
   },
   "outputs": [],
   "source": [
    "## obtener la cantidad de tweets publicados\n",
    "user.statuses_count"
   ]
  },
  {
   "cell_type": "markdown",
   "metadata": {
    "id": "UmWmJpMrD0Q4"
   },
   "source": [
    "## Extraer 200 tweets de un usuario"
   ]
  },
  {
   "cell_type": "code",
   "execution_count": null,
   "metadata": {
    "id": "qDTc_rmvCU8R"
   },
   "outputs": [],
   "source": [
    "## buscar los tweets de un usuario\n",
    "tweets = api.user_timeline(screen_name=\"@BrunoPinasco\", \n",
    "                           count = 200)\n",
    "tweets[0:5]"
   ]
  },
  {
   "cell_type": "code",
   "execution_count": null,
   "metadata": {
    "id": "4ssj7ipXCVBt"
   },
   "outputs": [],
   "source": [
    "## seleccionar únicamente los textos\n",
    "text = [tweet.text for tweet in tweets]\n",
    "text[0:5]"
   ]
  },
  {
   "cell_type": "code",
   "execution_count": null,
   "metadata": {
    "id": "y3WOH6tKCVD4"
   },
   "outputs": [],
   "source": [
    "## verificar la cantidad de tweets\n",
    "len(text)"
   ]
  },
  {
   "cell_type": "markdown",
   "metadata": {
    "id": "yg1qmsOIJ20L"
   },
   "source": [
    "## Extraer 3000 tweets de un usuario"
   ]
  },
  {
   "cell_type": "code",
   "execution_count": null,
   "metadata": {
    "id": "PfPnEr_cJ1ZZ"
   },
   "outputs": [],
   "source": [
    "## buscar los tweets de un usuario\n",
    "tweets = tweepy.Cursor(api.user_timeline, id=\"BrunoPinasco\").items(3000)\n",
    "tweets"
   ]
  },
  {
   "cell_type": "code",
   "execution_count": null,
   "metadata": {
    "id": "eM8raoaaJuhG"
   },
   "outputs": [],
   "source": [
    "## seleccionar únicamente los textos\n",
    "text = [tweet.text for tweet in tweets]\n",
    "text[0:5]"
   ]
  },
  {
   "cell_type": "code",
   "execution_count": null,
   "metadata": {
    "id": "z5rBKm1aKTQS"
   },
   "outputs": [],
   "source": [
    "## verificar la cantidad de tweets\n",
    "len(text)"
   ]
  },
  {
   "cell_type": "markdown",
   "metadata": {
    "id": "F4a3lFD3UdK7"
   },
   "source": [
    "# Extraer datos de diferentes usuarios"
   ]
  },
  {
   "cell_type": "code",
   "execution_count": null,
   "metadata": {
    "id": "925r6xjua_Ta"
   },
   "outputs": [],
   "source": [
    "import pandas as pd #Para dar estructura a los datos\n",
    "\n",
    "pd.set_option('display.max_colwidth', -1) #Se ajusta la columna de acuerdo al texto"
   ]
  },
  {
   "cell_type": "code",
   "execution_count": null,
   "metadata": {
    "id": "kHFvdF-DUcl7"
   },
   "outputs": [],
   "source": [
    "users = [\"@elcomercio_peru\", \"@larepublica_pe\", \"@peru21noticias\", \"@Gestionpe\", \"@RPPNoticias\"]\n",
    "users"
   ]
  },
  {
   "cell_type": "code",
   "execution_count": null,
   "metadata": {
    "id": "IYVzCaaUT6Em"
   },
   "outputs": [],
   "source": [
    "## extraer los datos por cada usuario\n",
    "texts = []\n",
    "datetimes = []\n",
    "diarios = []\n",
    "for user in users:\n",
    "    tweets = api.user_timeline(screen_name=user, count = 200)\n",
    "\n",
    "    ## extraer los datos de los tweets    \n",
    "    for tweet in tweets:\n",
    "        texts.append(tweet.text)\n",
    "        datetimes.append(tweet.created_at)\n",
    "        diarios.append(user)\n",
    "\n",
    "## almacenar en el diccionario\n",
    "data = {\"tweets\": texts,\n",
    "        \"datetime\": datetimes, \n",
    "        \"diario\": diarios}"
   ]
  },
  {
   "cell_type": "markdown",
   "metadata": {
    "id": "ygqrc14zd2BM"
   },
   "source": [
    "## Crear un dataframe para estructurar los datos"
   ]
  },
  {
   "cell_type": "code",
   "execution_count": null,
   "metadata": {
    "id": "TshxNO-HT6Hg"
   },
   "outputs": [],
   "source": [
    "## crear el dataframe\n",
    "df_tweets = pd.DataFrame(data)\n",
    "df_tweets.head()"
   ]
  },
  {
   "cell_type": "code",
   "execution_count": null,
   "metadata": {
    "id": "J48Zv8qFT6Lc"
   },
   "outputs": [],
   "source": [
    "## obtener el tamaño del dataframe\n",
    "df_tweets.shape"
   ]
  },
  {
   "cell_type": "code",
   "execution_count": null,
   "metadata": {
    "id": "E10h1sjIT6OI"
   },
   "outputs": [],
   "source": [
    "## contar valores únicos\n",
    "df_tweets[\"diario\"].unique()"
   ]
  },
  {
   "cell_type": "code",
   "execution_count": null,
   "metadata": {
    "id": "ddJ3YEiQT6Rb"
   },
   "outputs": [],
   "source": [
    "## contar los valores por cada categoría\n",
    "df_tweets[\"diario\"].value_counts()"
   ]
  },
  {
   "cell_type": "markdown",
   "metadata": {
    "id": "ZPjr7o9kd70m"
   },
   "source": [
    "## Visualizar los datos"
   ]
  },
  {
   "cell_type": "code",
   "execution_count": null,
   "metadata": {
    "id": "dFYhOfhAeCKf"
   },
   "outputs": [],
   "source": [
    "import matplotlib.pyplot as plt\n",
    "import plotly.graph_objects as go\n"
   ]
  },
  {
   "cell_type": "code",
   "execution_count": null,
   "metadata": {
    "id": "Pf-qM87mT6T7"
   },
   "outputs": [],
   "source": [
    "## plot en un gráfico de pie\n",
    "df_tweets[\"diario\"].value_counts().plot(kind=\"pie\")\n",
    "plt.show()"
   ]
  },
  {
   "cell_type": "code",
   "execution_count": null,
   "metadata": {
    "id": "XgMHEWQddYHk"
   },
   "outputs": [],
   "source": [
    "plt.style.use('ggplot')\n",
    "\n",
    "## plot en un gráfico de pie\n",
    "df_tweets[\"diario\"].value_counts().plot(kind=\"pie\")\n",
    "plt.show()"
   ]
  },
  {
   "cell_type": "markdown",
   "metadata": {
    "id": "8ooNqehseFZs"
   },
   "source": [
    "## Obtener los hashtags de los tweets"
   ]
  },
  {
   "cell_type": "code",
   "execution_count": null,
   "metadata": {
    "id": "qoni-lTmeJe-"
   },
   "outputs": [],
   "source": [
    "import re"
   ]
  },
  {
   "cell_type": "code",
   "execution_count": null,
   "metadata": {
    "id": "u9CKdOrekXvq"
   },
   "outputs": [],
   "source": [
    "len(texts)"
   ]
  },
  {
   "cell_type": "code",
   "execution_count": null,
   "metadata": {
    "id": "Bi553PqCj4-V"
   },
   "outputs": [],
   "source": [
    "## concatenar todos los tweets\n",
    "concat = \" \".join(texts)\n",
    "concat"
   ]
  },
  {
   "cell_type": "code",
   "execution_count": null,
   "metadata": {
    "id": "uQC5EpRPkpXA"
   },
   "outputs": [],
   "source": [
    "## obtener todos los hashtags\n",
    "hashtags = re.findall(r'#[\\w\\.-]+', concat)\n",
    "len(hashtags)"
   ]
  },
  {
   "cell_type": "code",
   "execution_count": null,
   "metadata": {
    "id": "0g15IVyBlDgY"
   },
   "outputs": [],
   "source": [
    "hashtags"
   ]
  },
  {
   "cell_type": "markdown",
   "metadata": {
    "id": "TPjZ8MYxkpxm"
   },
   "source": [
    "## Contar la cantidad de hashtag"
   ]
  },
  {
   "cell_type": "code",
   "execution_count": null,
   "metadata": {
    "id": "ueMA-vN6mA-X"
   },
   "outputs": [],
   "source": [
    "import operator #Ordena diccionarios"
   ]
  },
  {
   "cell_type": "code",
   "execution_count": null,
   "metadata": {
    "id": "VP9_pUGoltSq"
   },
   "outputs": [],
   "source": [
    "## ver los hashtags únicos\n",
    "len(set(hashtags))"
   ]
  },
  {
   "cell_type": "code",
   "execution_count": null,
   "metadata": {
    "id": "OE37vscdkH9M"
   },
   "outputs": [],
   "source": [
    "hashtag_dict = {}\n",
    "\n",
    "## contar cada hashtag\n",
    "for hash in set(hashtags):\n",
    "    hashtag_dict[hash] = hashtags.count(hash)\n",
    "\n",
    "hashtag_dict"
   ]
  },
  {
   "cell_type": "code",
   "execution_count": null,
   "metadata": {
    "id": "RvXKUS3Wlq5f"
   },
   "outputs": [],
   "source": [
    "## ordenar el diccionario\n",
    "# reverse = TRUE -> Ascendente\n",
    "ordered = sorted(hashtag_dict.items(), reverse=True, key=operator.itemgetter(1))\n",
    "ordered[0:10]"
   ]
  },
  {
   "cell_type": "markdown",
   "metadata": {
    "id": "gKXuhzzSm4xS"
   },
   "source": [
    "## Obtener todas las URL de los tweets"
   ]
  },
  {
   "cell_type": "code",
   "execution_count": null,
   "metadata": {
    "id": "qjn0pXIinNhO"
   },
   "outputs": [],
   "source": [
    "Usar librería re"
   ]
  }
 ],
 "metadata": {
  "colab": {
   "authorship_tag": "ABX9TyNgqtXajeGRi94XU/Dfz2Wk",
   "collapsed_sections": [
    "UmWmJpMrD0Q4",
    "yg1qmsOIJ20L",
    "ygqrc14zd2BM",
    "ZPjr7o9kd70m",
    "8ooNqehseFZs",
    "TPjZ8MYxkpxm",
    "gKXuhzzSm4xS"
   ],
   "name": "introduccion_tweepy.ipynb",
   "provenance": [],
   "toc_visible": true
  },
  "kernelspec": {
   "display_name": "Python 3",
   "language": "python",
   "name": "python3"
  },
  "language_info": {
   "codemirror_mode": {
    "name": "ipython",
    "version": 3
   },
   "file_extension": ".py",
   "mimetype": "text/x-python",
   "name": "python",
   "nbconvert_exporter": "python",
   "pygments_lexer": "ipython3",
   "version": "3.8.5"
  }
 },
 "nbformat": 4,
 "nbformat_minor": 1
}
